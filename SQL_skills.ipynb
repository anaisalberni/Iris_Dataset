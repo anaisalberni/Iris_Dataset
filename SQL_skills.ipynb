{
  "nbformat": 4,
  "nbformat_minor": 0,
  "metadata": {
    "colab": {
      "provenance": [],
      "toc_visible": true
    },
    "kernelspec": {
      "name": "python3",
      "display_name": "Python 3"
    },
    "language_info": {
      "name": "python"
    }
  },
  "cells": [
    {
      "cell_type": "markdown",
      "source": [
        "# SQL Skills\n",
        "\n",
        "### Previous steps"
      ],
      "metadata": {
        "id": "lPi4TEpvYIpP"
      }
    },
    {
      "cell_type": "code",
      "source": [
        "# load the iris data\n",
        "!pip install ucimlrepo"
      ],
      "metadata": {
        "colab": {
          "base_uri": "https://localhost:8080/"
        },
        "id": "nkySs4sh1yIZ",
        "outputId": "370420ed-ee85-437c-df14-6547bf840da0"
      },
      "execution_count": 1,
      "outputs": [
        {
          "output_type": "stream",
          "name": "stdout",
          "text": [
            "Collecting ucimlrepo\n",
            "  Downloading ucimlrepo-0.0.3-py3-none-any.whl (7.0 kB)\n",
            "Installing collected packages: ucimlrepo\n",
            "Successfully installed ucimlrepo-0.0.3\n"
          ]
        }
      ]
    },
    {
      "cell_type": "code",
      "source": [
        "from ucimlrepo import fetch_ucirepo\n",
        "\n",
        "# fetch dataset\n",
        "iris = fetch_ucirepo(id=53)\n",
        "\n",
        "# data (as pandas dataframes)\n",
        "X = iris.data.features\n",
        "y = iris.data.targets\n",
        "\n",
        "# metadata\n",
        "print(iris.metadata)\n",
        "\n",
        "# variable information\n",
        "print(iris.variables)\n"
      ],
      "metadata": {
        "colab": {
          "base_uri": "https://localhost:8080/"
        },
        "id": "gHl0PFf212SL",
        "outputId": "f60ba87f-8e59-45d4-e132-7da3301f46c3"
      },
      "execution_count": 2,
      "outputs": [
        {
          "output_type": "stream",
          "name": "stdout",
          "text": [
            "{'uci_id': 53, 'name': 'Iris', 'repository_url': 'https://archive.ics.uci.edu/dataset/53/iris', 'data_url': 'https://archive.ics.uci.edu/static/public/53/data.csv', 'abstract': 'A small classic dataset from Fisher, 1936. One of the earliest known datasets used for evaluating classification methods.\\n', 'area': 'Biology', 'tasks': ['Classification'], 'characteristics': ['Tabular'], 'num_instances': 150, 'num_features': 4, 'feature_types': ['Real'], 'demographics': [], 'target_col': ['class'], 'index_col': None, 'has_missing_values': 'no', 'missing_values_symbol': None, 'year_of_dataset_creation': 1936, 'last_updated': 'Tue Sep 12 2023', 'dataset_doi': '10.24432/C56C76', 'creators': ['R. A. Fisher'], 'intro_paper': {'title': 'The Iris data set: In search of the source of virginica', 'authors': 'A. Unwin, K. Kleinman', 'published_in': 'Significance, 2021', 'year': 2021, 'url': 'https://www.semanticscholar.org/paper/4599862ea877863669a6a8e63a3c707a787d5d7e', 'doi': '1740-9713.01589'}, 'additional_info': {'summary': 'This is one of the earliest datasets used in the literature on classification methods and widely used in statistics and machine learning.  The data set contains 3 classes of 50 instances each, where each class refers to a type of iris plant.  One class is linearly separable from the other 2; the latter are not linearly separable from each other.\\n\\nPredicted attribute: class of iris plant.\\n\\nThis is an exceedingly simple domain.\\n\\nThis data differs from the data presented in Fishers article (identified by Steve Chadwick,  spchadwick@espeedaz.net ).  The 35th sample should be: 4.9,3.1,1.5,0.2,\"Iris-setosa\" where the error is in the fourth feature. The 38th sample: 4.9,3.6,1.4,0.1,\"Iris-setosa\" where the errors are in the second and third features.  ', 'purpose': 'N/A', 'funded_by': None, 'instances_represent': 'Each instance is a plant', 'recommended_data_splits': None, 'sensitive_data': None, 'preprocessing_description': None, 'variable_info': None, 'citation': None}}\n",
            "           name     role         type demographic  \\\n",
            "0  sepal length  Feature   Continuous        None   \n",
            "1   sepal width  Feature   Continuous        None   \n",
            "2  petal length  Feature   Continuous        None   \n",
            "3   petal width  Feature   Continuous        None   \n",
            "4         class   Target  Categorical        None   \n",
            "\n",
            "                                         description units missing_values  \n",
            "0                                               None    cm             no  \n",
            "1                                               None    cm             no  \n",
            "2                                               None    cm             no  \n",
            "3                                               None    cm             no  \n",
            "4  class of iris plant: Iris Setosa, Iris Versico...  None             no  \n"
          ]
        }
      ]
    },
    {
      "cell_type": "code",
      "source": [
        "# import libraries\n",
        "import pandas as pd\n",
        "import sqlite3"
      ],
      "metadata": {
        "id": "fRlZt3dR3CZ9"
      },
      "execution_count": 3,
      "outputs": []
    },
    {
      "cell_type": "code",
      "source": [
        "# dataset loading\n",
        "columns = ['sepal_length', 'sepal_width', 'petal_length', 'petal_width', 'species']\n",
        "iris_df = pd.read_csv('iris.data', names=columns)"
      ],
      "metadata": {
        "id": "dbcXaebh2906"
      },
      "execution_count": 5,
      "outputs": []
    },
    {
      "cell_type": "code",
      "source": [
        "# Connect to SQLite database\n",
        "conn = sqlite3.connect('iris.db')"
      ],
      "metadata": {
        "id": "_h6lgL1Q06xx"
      },
      "execution_count": 6,
      "outputs": []
    },
    {
      "cell_type": "code",
      "source": [
        "# Load the DataFrame in the table 'iris_table'.\n",
        "iris_df.to_sql('iris_table', conn, index=False, if_exists='replace')"
      ],
      "metadata": {
        "colab": {
          "base_uri": "https://localhost:8080/"
        },
        "id": "QDKnAWwo1PIc",
        "outputId": "d30429de-f4c2-44e3-ff2e-7c252d160fcc"
      },
      "execution_count": 7,
      "outputs": [
        {
          "output_type": "execute_result",
          "data": {
            "text/plain": [
              "150"
            ]
          },
          "metadata": {},
          "execution_count": 7
        }
      ]
    },
    {
      "cell_type": "markdown",
      "source": [
        "**Comments:**\n",
        "\n",
        "Pandas has been used to load the dataset from a CSV file into a DataFrame.\n",
        "Then, the Pandas function 'to_sql' was used to load the DataFrame into a table called 'iris_table' in the SQLite database ('iris.db')."
      ],
      "metadata": {
        "id": "SsXI1ToobN06"
      }
    },
    {
      "cell_type": "markdown",
      "source": [
        "# Questions"
      ],
      "metadata": {
        "id": "yTSZjbpVaa8i"
      }
    },
    {
      "cell_type": "code",
      "source": [
        "# 1. Retrieve the top 5 rows from the dataset.\n",
        "query1 = \"SELECT * FROM iris_table LIMIT 5;\"\n",
        "result1 = conn.execute(query1).fetchall()\n",
        "result1"
      ],
      "metadata": {
        "colab": {
          "base_uri": "https://localhost:8080/"
        },
        "id": "hi-5XuH117Vw",
        "outputId": "14bd4e67-a79e-414f-d08b-bb435f12eb9c"
      },
      "execution_count": 10,
      "outputs": [
        {
          "output_type": "execute_result",
          "data": {
            "text/plain": [
              "[(5.1, 3.5, 1.4, 0.2, 'Iris-setosa'),\n",
              " (4.9, 3.0, 1.4, 0.2, 'Iris-setosa'),\n",
              " (4.7, 3.2, 1.3, 0.2, 'Iris-setosa'),\n",
              " (4.6, 3.1, 1.5, 0.2, 'Iris-setosa'),\n",
              " (5.0, 3.6, 1.4, 0.2, 'Iris-setosa')]"
            ]
          },
          "metadata": {},
          "execution_count": 10
        }
      ]
    },
    {
      "cell_type": "code",
      "source": [
        "# 2. Calculate the total number of unique values in the 'species' column.\n",
        "query2 = \"SELECT COUNT(DISTINCT species) AS unique_species_count FROM iris_table;\"\n",
        "result2 = conn.execute(query2).fetchone()\n",
        "result2[0]"
      ],
      "metadata": {
        "colab": {
          "base_uri": "https://localhost:8080/"
        },
        "id": "W8VZir063edx",
        "outputId": "38de85fa-aa82-4f31-9edb-d60d1991ecb0"
      },
      "execution_count": 33,
      "outputs": [
        {
          "output_type": "execute_result",
          "data": {
            "text/plain": [
              "3"
            ]
          },
          "metadata": {},
          "execution_count": 33
        }
      ]
    },
    {
      "cell_type": "code",
      "source": [
        "# 3. Find the average value of the 'sepal_length' column for each species.\n",
        "query3 = \"SELECT species, AVG(sepal_length) AS average_sepal_length FROM iris_table GROUP BY species;\"\n",
        "result3 = conn.execute(query3).fetchall()\n",
        "result3"
      ],
      "metadata": {
        "colab": {
          "base_uri": "https://localhost:8080/"
        },
        "id": "T911Hkod3h0q",
        "outputId": "ac30cd44-afd1-4e0f-9df4-0e96e638b548"
      },
      "execution_count": 34,
      "outputs": [
        {
          "output_type": "execute_result",
          "data": {
            "text/plain": [
              "[('Iris-setosa', 5.005999999999999),\n",
              " ('Iris-versicolor', 5.936),\n",
              " ('Iris-virginica', 6.587999999999998)]"
            ]
          },
          "metadata": {},
          "execution_count": 34
        }
      ]
    },
    {
      "cell_type": "markdown",
      "source": [
        "# Summary\n",
        "\n",
        "In summary the steps to follow have been, established a connection to the SQLite database using sqlite3.connect() in Python. Then I used the conn.execute() method to execute SQL queries on the connected database. Finally note that in each question I have made use of the term \"fetchall()\" or \"fetchone()\" to retrieve the results of the executed queries."
      ],
      "metadata": {
        "id": "GCTHaJXQeuzL"
      }
    }
  ]
}